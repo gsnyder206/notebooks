{
 "cells": [
  {
   "cell_type": "markdown",
   "metadata": {},
   "source": [
    "# ASDI Demo Cases - Using TAP and a MAST API"
   ]
  },
  {
   "cell_type": "markdown",
   "metadata": {},
   "source": [
    "This notebook shows how to use a TAP service to download pristine synthetic data from the MAST archive, and a second service that performs instrument simulations on that data server-side."
   ]
  },
  {
   "cell_type": "markdown",
   "metadata": {},
   "source": [
    "***\n",
    "## Imports"
   ]
  },
  {
   "cell_type": "code",
   "execution_count": null,
   "metadata": {},
   "outputs": [],
   "source": [
    "# Use the astroquery TapPlus library as our client to the data service.\n",
    "from astroquery.utils.tap.core import TapPlus\n",
    "\n",
    "# For handling ordinary astropy Tables in responses\n",
    "from astropy.table import Table\n",
    "\n",
    "# For displaying and manipulating some types of results\n",
    "import astropy\n",
    "import time\n",
    "import numpy as np\n",
    "import astropy.io.fits as fits\n",
    "import requests\n",
    "import os\n",
    "from zipfile import ZipFile \n",
    "\n",
    "#plotting routines\n",
    "import matplotlib\n",
    "from matplotlib import pyplot"
   ]
  },
  {
   "cell_type": "markdown",
   "metadata": {},
   "source": [
    "## TAP Service Introduction\n",
    "\n",
    "Table Access Protocol (TAP) services allow more direct and flexible access to astronomical data than the simpler types of IVOA standard data services. Queries are built with the SQL-like Astronomical Data Query Language (ADQL), and can include geographic / spatial queries as well as filtering on other characteristics of the data. This also allows the user fine-grained control over the returned columns, unlike the fixed set of coumns retunred from cone, image, and spectral services."
   ]
  },
  {
   "cell_type": "markdown",
   "metadata": {},
   "source": [
    "## Service Specific Configuration\n",
    "\n",
    "Every TAP service has a \"Base URL\" plus associated endpoints for synchronous and asynchronous queries, as well as status and capability information, and sometimes service-provided sample queries. The endpoints are predefined in the TAP standard, so clients can infer them using the base. We therefore only have to provide astroquery that base."
   ]
  },
  {
   "cell_type": "code",
   "execution_count": null,
   "metadata": {},
   "outputs": [],
   "source": [
    "TAP_URL = \"http://vaotest.stsci.edu/ASDI/tapservice.aspx\"\n",
    "TAP_service = TapPlus(url=TAP_URL)"
   ]
  },
  {
   "cell_type": "markdown",
   "metadata": {},
   "source": [
    "### Browsing the Schema\n",
    "\n",
    "TAP gives us access to descriptive metadata for this catalog. We can use this to narrow searches and filter our results. For the current catalog, there is only one table, with columns for the project name, nullable fields relevant to various projects, and a public path for downloading associated files."
   ]
  },
  {
   "cell_type": "code",
   "execution_count": null,
   "metadata": {},
   "outputs": [],
   "source": [
    "table_descriptions = TAP_service.load_tables()\n",
    "print('\\n')\n",
    "for table in table_descriptions:\n",
    "    if(not table.name.startswith('tap_schema')):\n",
    "        print('TAP table: ' + table.name)\n",
    "        print(table.description)\n",
    "        print('\\n')\n",
    "        for i, column in enumerate(table.columns):\n",
    "            print(column.name)\n",
    "            print(column.description)\n",
    "            print('\\n')"
   ]
  },
  {
   "cell_type": "markdown",
   "metadata": {},
   "source": [
    "***\n",
    "# ASDI CGM Use Case 1\n",
    "Search for simulated CGM sightlines at 0.3 < z < 1.5 with HI, OVI, and NeVIII absorption. To compare with our own data, we wants only sightlines with OVI column density > 10^12.75 cm-2.\n",
    "\n",
    "We remotely search two catalogs with redshifts, HI, OVI, and NeVIII column densities, impact parameters, galaxy stellar masses, and galaxy star formation rates, one from the FOGGIE simulations and one from the FIRE simulations.\n",
    "\n",
    "Modifications/Simplifications for Demo:  z=2, 2.5 only; FOGGIE only, no NeVIII yet (replace with C IV)"
   ]
  },
  {
   "cell_type": "code",
   "execution_count": null,
   "metadata": {},
   "outputs": [],
   "source": [
    "# First we search FOGGIE. Note that we don't need every column returned; we can filter server-side\n",
    "job = TAP_service.launch_job(\"\"\"\n",
    "            SELECT lineName, extNum, redshift, totalColumn, impact, mstar, sfr, publicPath \n",
    "            FROM dbo.ASDISpectra1DCGM \n",
    "            WHERE projectName = 'foggie' AND\n",
    "            (lineName = 'O VI 1032' OR lineName = 'Si II 1260') AND\n",
    "            (redshift >= 1.8 and redshift <= 2.5) AND\n",
    "            totalColumn >= 12.75\n",
    "            \"\"\")\n",
    "\n",
    "foggie_results = job.get_results()\n",
    "foggie_results"
   ]
  },
  {
   "cell_type": "markdown",
   "metadata": {},
   "source": [
    "***\n",
    "# ASDI CGM Use Case 2\n",
    "We search for simulated CGM sightlines with SiII, SiIII, SiIV, OVI, and NeVIII absorption. We page through a few of the quicklooks and pick a few sightlines that look interesting, then download the FITS files with optical depth and normalized flux versus velocity at the intrinsic simulation resolution with no noise added, and at the STIS/E140H and COS/G130M (both LP1 and LP4) resolution, each with S/N=5, 10, 20, 50, 100 per resel applied. We can then download the individual files."
   ]
  },
  {
   "cell_type": "code",
   "execution_count": null,
   "metadata": {},
   "outputs": [],
   "source": [
    "np.random.seed(0)\n",
    "interesting_los=foggie_results[np.random.randint(0,len(foggie_results),3)]\n",
    "\n",
    "interesting_los"
   ]
  },
  {
   "cell_type": "markdown",
   "metadata": {},
   "source": [
    "We can use this information to call the MAST service which applies instrument signatures to pristine data. This API works on one line at a time, and does the simulation server-side to be closer to the data and therefore faster than running locally. The service returns a zipped attachment, which we then open.\n",
    "\n",
    "Pull out the first of our filtered rows, and call the service:"
   ]
  },
  {
   "cell_type": "code",
   "execution_count": null,
   "metadata": {},
   "outputs": [],
   "source": [
    "example_row = interesting_los[0]\n",
    "\n",
    "example_line_name = example_row['lineName']\n",
    "example_ext_num = example_row['extNum']\n",
    "example_path = example_row['publicPath']\n",
    "\n",
    "STIS_sim_filename = os.path.basename(example_path).replace('pristine', 'STIS')\n",
    "save_location=\"ASDI_Sims\"\n",
    "if not os.path.lexists(save_location):\n",
    "    os.mkdir(save_location)"
   ]
  },
  {
   "cell_type": "code",
   "execution_count": null,
   "metadata": {},
   "outputs": [],
   "source": [
    "inst_sim_url = \"https://masttest.stsci.edu/asdi/api/v0.1/addsignature\"\n",
    "PARAMS = {'instrument':'STIS', 'line_name': example_line_name, 'ext_num': example_ext_num, 'public_path': example_path} \n",
    "r = requests.get(url = inst_sim_url, params = PARAMS, allow_redirects = True) \n",
    "\n",
    "if r.status_code != 200: #show what went wrong\n",
    "    #print(r.headers)\n",
    "    print(r.text)\n",
    "else:\n",
    "    open(os.path.join(save_location,STIS_sim_filename), 'wb').write(r.content)"
   ]
  },
  {
   "cell_type": "code",
   "execution_count": null,
   "metadata": {},
   "outputs": [],
   "source": [
    "with ZipFile(os.path.join(save_location,STIS_sim_filename), 'r') as zip_ref:\n",
    "    zip_ref.extractall(save_location)\n",
    "    zip_info = zip_ref.infolist()\n",
    "    #print(zip_info[0].filename)\n",
    "    \n",
    "fo=fits.open(os.path.join(save_location, zip_info[0].filename))\n",
    "fo.info()\n",
    "print(fo['SyntheticData'].header)"
   ]
  },
  {
   "cell_type": "markdown",
   "metadata": {},
   "source": [
    "-----"
   ]
  },
  {
   "cell_type": "markdown",
   "metadata": {},
   "source": [
    "### Comparing Pristine and Instrument-Specific Data\n",
    "\n",
    "Files in this public storage can be accessed via http, so we can download them using Python requests and compare:"
   ]
  },
  {
   "cell_type": "code",
   "execution_count": null,
   "metadata": {},
   "outputs": [],
   "source": [
    "source_file = 'http://tlarchv1.stsci.edu'+example_row['publicPath']\n",
    "print(source_file)\n",
    "\n",
    "r = requests.get(source_file, allow_redirects=True)\n",
    "open(os.path.join(save_location,os.path.basename(source_file)), 'wb').write(r.content)\n",
    "print('File downloaded: {} bytes'.format(r.headers['Content-length']))"
   ]
  },
  {
   "cell_type": "markdown",
   "metadata": {},
   "source": [
    "Now, display simulated data and compare to pristine input data."
   ]
  },
  {
   "cell_type": "code",
   "execution_count": null,
   "metadata": {},
   "outputs": [],
   "source": [
    "f=pyplot.figure(figsize=(8,16))\n",
    "simdata=fo['SyntheticData'].data\n",
    "axi1=f.add_subplot(2,1,2)\n",
    "axi1.plot(simdata['lam_stis'],simdata['flux_stis'])\n",
    "\n",
    "axi2=f.add_subplot(2,1,1)\n",
    "axi2.plot(simdata['lam_stis'],simdata['flux_obs'])\n",
    "\n",
    "axi1.set_title('STIS E140H spectrum, S/N=25',size=25)\n",
    "axi1.set_xlabel(r'$\\lambda_{\\rm obs} (\\AA)$',size=25)\n",
    "axi1.set_ylabel('flux',size=20)\n",
    "axi1.annotate(fo['SyntheticData'].header['LINE'],(0.6,0.15),xycoords='axes fraction',size=25)\n",
    "axi1.annotate(r'$z_{\\rm obs}$'+'={:4.2f}'.format(fo[3].header['OBS_Z']),(0.6,0.08),xycoords='axes fraction',size=25)\n",
    "axi2.set_title('Pristine input spectrum',size=25)\n",
    "axi2.set_xlabel(r'$\\lambda_{\\rm obs} (\\AA)$',size=25)\n",
    "axi2.set_ylabel('flux',size=20)\n",
    "axi2.annotate(fo['SyntheticData'].header['LINE'],(0.6,0.15),xycoords='axes fraction',size=25)\n",
    "axi2.annotate(r'$z_{\\rm obs}$'+'={:4.2f}'.format(fo[3].header['OBS_Z']),(0.6,0.08),xycoords='axes fraction',size=25)\n",
    "\n",
    "f.savefig(os.path.join(save_location,'asdi2.png'),dpi=300)\n",
    "pyplot.show()"
   ]
  }
 ],
 "metadata": {
  "kernelspec": {
   "display_name": "Python 3",
   "language": "python",
   "name": "python3"
  },
  "language_info": {
   "codemirror_mode": {
    "name": "ipython",
    "version": 3
   },
   "file_extension": ".py",
   "mimetype": "text/x-python",
   "name": "python",
   "nbconvert_exporter": "python",
   "pygments_lexer": "ipython3",
   "version": "3.7.3"
  }
 },
 "nbformat": 4,
 "nbformat_minor": 2
}
