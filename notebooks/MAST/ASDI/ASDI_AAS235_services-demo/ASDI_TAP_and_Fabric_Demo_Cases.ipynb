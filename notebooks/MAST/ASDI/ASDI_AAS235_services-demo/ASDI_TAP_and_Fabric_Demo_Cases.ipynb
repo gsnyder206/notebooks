{
 "cells": [
  {
   "cell_type": "markdown",
   "metadata": {},
   "source": [
    "# ASDI Demo Cases - Using TAP and a MAST API"
   ]
  },
  {
   "cell_type": "markdown",
   "metadata": {},
   "source": [
    "This notebook shows how to use a TAP service to download pristine synthetic data from the MAST archive, and a second service that performs instrument simulations on that data server-side.  \n",
    "\n",
    "For more information, see the ASDI Prototype documentation here: https://archive.stsci.edu/access-mast-data/asdi/asdi-prototype-demo"
   ]
  },
  {
   "cell_type": "markdown",
   "metadata": {},
   "source": [
    "***\n",
    "## Imports"
   ]
  },
  {
   "cell_type": "code",
   "execution_count": null,
   "metadata": {},
   "outputs": [],
   "source": [
    "# Use the astroquery TapPlus library as our client to the data service.\n",
    "from astroquery.utils.tap.core import TapPlus\n",
    "\n",
    "# For handling ordinary astropy Tables in responses\n",
    "from astropy.table import Table\n",
    "\n",
    "# For displaying and manipulating some types of results\n",
    "import astropy\n",
    "import time\n",
    "import numpy as np\n",
    "import astropy.io.fits as fits\n",
    "import requests\n",
    "import os\n",
    "from zipfile import ZipFile \n",
    "\n",
    "#plotting routines\n",
    "import matplotlib\n",
    "from matplotlib import pyplot"
   ]
  },
  {
   "cell_type": "markdown",
   "metadata": {},
   "source": [
    "## TAP Service Introduction\n",
    "\n",
    "Table Access Protocol (TAP) services allow more direct and flexible access to astronomical data than the simpler types of IVOA standard data services. Queries are built with the SQL-like Astronomical Data Query Language (ADQL), and can include geographic / spatial queries as well as filtering on other characteristics of the data. This also allows the user fine-grained control over the returned columns, unlike the fixed set of coumns returned from cone, image, and spectral services."
   ]
  },
  {
   "cell_type": "markdown",
   "metadata": {},
   "source": [
    "## Service Specific Configuration\n",
    "\n",
    "Every TAP service has a \"Base URL\" plus associated endpoints for synchronous and asynchronous queries, as well as status and capability information, and sometimes service-provided sample queries. The endpoints are predefined in the TAP standard, so clients can infer them using the base. We therefore only have to provide astroquery that base."
   ]
  },
  {
   "cell_type": "code",
   "execution_count": null,
   "metadata": {},
   "outputs": [],
   "source": [
    "TAP_URL = \"http://vaotest.stsci.edu/ASDI/tapservice.aspx\"\n",
    "TAP_service = TapPlus(url=TAP_URL)"
   ]
  },
  {
   "cell_type": "markdown",
   "metadata": {},
   "source": [
    "### Browsing the Schema\n",
    "\n",
    "TAP gives us access to descriptive metadata for this catalog. We can use this to narrow searches and filter our results. For the current catalog, there is only one table, with columns for the project name, nullable fields relevant to various projects, and a public path for downloading associated files."
   ]
  },
  {
   "cell_type": "code",
   "execution_count": null,
   "metadata": {
    "scrolled": true
   },
   "outputs": [],
   "source": [
    "table_descriptions = TAP_service.load_tables()\n",
    "print('\\n')\n",
    "for table in table_descriptions:\n",
    "    if(not table.name.startswith('tap_schema')):\n",
    "        print('TAP table: ' + table.name)\n",
    "        print(table.description)\n",
    "        print('\\n')\n",
    "        for i, column in enumerate(table.columns):\n",
    "            print(column.name)\n",
    "            print(column.description,'\\n')"
   ]
  },
  {
   "cell_type": "markdown",
   "metadata": {},
   "source": [
    "***\n",
    "# ASDI CGM Use Case 1\n",
    "Search for simulated CGM sightlines at 1.8 <= z <= 2.5 with O VI and Si II absorption. To compare with our own data, we want only sightlines with OVI column density > 10^12.75 cm-2. First we search for FOGGIE simulation lines of sight. We remotely search a catalog with redshifts and line column densities, impact parameters, galaxy stellar masses, galaxy star formation rates, and other quantities. \n",
    "\n",
    "In this example, we download the entire catalog for the resulting sightlines.  However, we can also filter server-side by replacing \"SELECT \\*\" with, e.g., \"SELECT lineName, extNum, redshift, totalColumn, impact, mstar, sfr, publicPath\""
   ]
  },
  {
   "cell_type": "code",
   "execution_count": null,
   "metadata": {},
   "outputs": [],
   "source": [
    "# Launch TAP query\n",
    "job = TAP_service.launch_job(\"\"\"\n",
    "            SELECT *\n",
    "            FROM dbo.ASDISpectra1DCGM \n",
    "            WHERE projectName = 'foggie' AND\n",
    "            (lineName = 'O VI 1032' OR lineName = 'Si II 1260') AND\n",
    "            (redshift >= 1.8 and redshift <= 2.5) AND\n",
    "            totalColumn >= 12.75\n",
    "            \"\"\")\n",
    "# Obtain results\n",
    "foggie_results = job.get_results()\n",
    "\n",
    "# Print available columns in resulting catalog\n",
    "for c in foggie_results.columns: print(c)"
   ]
  },
  {
   "cell_type": "code",
   "execution_count": null,
   "metadata": {},
   "outputs": [],
   "source": [
    "# Display example entires in resulting catalog\n",
    "foggie_results[['lineName','redshift','totalColumn','impact','publicPath']][0:10]"
   ]
  },
  {
   "cell_type": "markdown",
   "metadata": {},
   "source": [
    "***\n",
    "# ASDI CGM Use Case 2\n",
    "\n",
    "From the search results, access the pristine synthetic spectra at the intrinsic simulation resolution with no noise added. Then, call the ASDI data simulation service to generate custom mock spectra at the STIS/E140H resolution (artificially redshifting the line if necessary). Demonstrate spectra with S/N= 5, 25, 100 per resolution element."
   ]
  },
  {
   "cell_type": "code",
   "execution_count": null,
   "metadata": {},
   "outputs": [],
   "source": [
    "#choose a few random results to examine\n",
    "np.random.seed(0)\n",
    "interesting_los=foggie_results[np.random.randint(0,len(foggie_results),3)]\n",
    "\n",
    "interesting_los"
   ]
  },
  {
   "cell_type": "code",
   "execution_count": null,
   "metadata": {},
   "outputs": [],
   "source": [
    "#download a pristine simulated spectrum\n",
    "example_file='http://archive.stsci.edu'+interesting_los['publicPath'][1]\n",
    "print(example_file)\n",
    "\n",
    "#create a local folder to save the file\n",
    "save_location=\"ASDI_Sims\"\n",
    "if not os.path.lexists(save_location):\n",
    "    os.mkdir(save_location)\n",
    "\n",
    "r = requests.get(example_file, allow_redirects=True)\n",
    "saved_file=os.path.join(save_location,os.path.basename(example_file))\n",
    "open(saved_file, 'wb').write(r.content)\n",
    "print('File downloaded: {} bytes'.format(r.headers['Content-length']))\n",
    "hdulist=fits.open(saved_file)\n",
    "print(hdulist.info())\n"
   ]
  },
  {
   "cell_type": "code",
   "execution_count": null,
   "metadata": {},
   "outputs": [],
   "source": [
    "#plot pristine spectrum as well as a vector of intrinsic simulation data\n",
    "\n",
    "#access pristine spectrum\n",
    "this_hdu=hdulist[interesting_los[1]['extName']]\n",
    "pristine_data=this_hdu.data\n",
    "\n",
    "#access corresponding physical information (see headers for more information)\n",
    "phys_hdu=hdulist['Physical']\n",
    "phys_data=phys_hdu.data\n",
    "\n",
    "fig, (ax1, ax2) = pyplot.subplots(1,2, figsize=(12, 6),dpi=100)\n",
    "pyplot.subplots_adjust(hspace=0.2,wspace=0.2,top=0.88,bottom=0.12,left=0.06,right=0.99)\n",
    "ax1.plot(pristine_data['disp_obs'],pristine_data['flux_obs'])\n",
    "\n",
    "ax1.set_xlabel(r'$\\lambda_{\\rm obs} (\\AA)$',size=25)\n",
    "ax1.set_ylabel('flux',size=20)\n",
    "ax1.annotate(this_hdu.header['EXTNAME'],(0.6,0.15),xycoords='axes fraction',size=25)\n",
    "#ax1.annotate(r'$z_{\\rm obs}$'+'={:4.2f}'.format(fo[3].header['OBS_Z']),(0.6,0.08),xycoords='axes fraction',size=25)\n",
    "ax1.set_title('Pristine input spectrum',size=25)\n",
    "\n",
    "ax2.semilogy(phys_data['los_position'],phys_data['metallicity'])\n",
    "ax2.set_xlabel('Position along sightline (kpc)',size=25)\n",
    "ax2.set_ylabel('Metallicity (Zsun)',size=20)\n",
    "\n",
    "ax2.set_title('Physical Information',size=25)\n",
    "fig.savefig(os.path.join(save_location,'asdi1.png'),dpi=300)"
   ]
  },
  {
   "cell_type": "markdown",
   "metadata": {},
   "source": [
    "### Data Simulation\n",
    "\n",
    "We can use this information to call the MAST service which applies instrument signatures to pristine data. This API works on one line at a time, and does the simulation server-side to be closer to the data and therefore faster than running locally. The service returns a FITS file, which we can inspect and open.\n",
    "\n",
    "Pull out the first of our filtered rows, and call the service:"
   ]
  },
  {
   "cell_type": "code",
   "execution_count": null,
   "metadata": {},
   "outputs": [],
   "source": [
    "example_row = interesting_los[0]\n",
    "\n",
    "example_line_name = example_row['lineName']\n",
    "example_ext_num = example_row['extNum']\n",
    "example_path = example_row['publicPath']\n",
    "\n",
    "STIS_sim_filename = os.path.basename(example_path).replace('pristine', 'stis')\n",
    "print(STIS_sim_filename)"
   ]
  },
  {
   "cell_type": "code",
   "execution_count": null,
   "metadata": {},
   "outputs": [],
   "source": [
    "inst_sim_url = \"https://masttest.stsci.edu/asdi/api/v0.1/addsignature\"\n",
    "\n",
    "#construct a dictionary of input parameters\n",
    "PARAMS = {'instrument':'STIS', #currently the only option for instrument\n",
    "          'element1':'E140H', #currently the only option for instrument element\n",
    "          'line_name': example_line_name, \n",
    "          'ext_num': example_ext_num, \n",
    "          'public_path': example_path,\n",
    "          'snratioresel': 25,\n",
    "          'override_observed_wavelength': 1500.0} \n",
    "\n",
    "#pass the service URL and parameters to Python requests call\n",
    "r = requests.get(url = inst_sim_url, params = PARAMS, allow_redirects = True) \n",
    "\n",
    "#specify the FITS file in which to save the results\n",
    "stis_file_path=os.path.join(save_location,STIS_sim_filename)\n",
    "\n",
    "#response is returned as a JSON object which can be inspected for status and content.\n",
    "if r.status_code != 200: #show what went wrong\n",
    "    #print(r.headers)\n",
    "    print(r.text)\n",
    "else:\n",
    "    #if successful, write the content to a FITS file\n",
    "    open(stis_file_path, 'wb').write(r.content)"
   ]
  },
  {
   "cell_type": "code",
   "execution_count": null,
   "metadata": {},
   "outputs": [],
   "source": [
    "fo=fits.open(stis_file_path)\n",
    "fo.info()\n",
    "print(fo['SyntheticData'].data.columns)"
   ]
  },
  {
   "cell_type": "markdown",
   "metadata": {},
   "source": [
    "***\n",
    "### Comparing Pristine and Instrument-Specific Data\n",
    "\n",
    "Files in this public storage can be accessed via http, so we can download them using Python requests and compare:"
   ]
  },
  {
   "cell_type": "code",
   "execution_count": null,
   "metadata": {},
   "outputs": [],
   "source": [
    "source_file = 'http://archive.stsci.edu'+example_row['publicPath']\n",
    "print(source_file)\n",
    "\n",
    "r = requests.get(source_file, allow_redirects=True)\n",
    "open(os.path.join(save_location,os.path.basename(source_file)), 'wb').write(r.content)\n",
    "print('File downloaded: {} bytes'.format(r.headers['Content-length']))"
   ]
  },
  {
   "cell_type": "markdown",
   "metadata": {},
   "source": [
    "Now, display simulated data and compare to pristine input data."
   ]
  },
  {
   "cell_type": "code",
   "execution_count": null,
   "metadata": {},
   "outputs": [],
   "source": [
    "fig2, (ax1, ax2) = pyplot.subplots(1,2, figsize=(12, 6),dpi=100)\n",
    "pyplot.subplots_adjust(hspace=0.2,wspace=0.2,top=0.88,bottom=0.12,left=0.06,right=0.99)\n",
    "\n",
    "#plot STIS simulated data\n",
    "simdata=fo['SyntheticData'].data\n",
    "ax1.plot(simdata['lam_stis'],simdata['flux_stis'])\n",
    "\n",
    "#plot original pristine spectrum with same x axis\n",
    "ax2.plot(simdata['lam_stis'],simdata['flux_obs'])\n",
    "\n",
    "ax1.set_title('STIS E140H spectrum, S/N=25',size=25)\n",
    "ax1.set_xlabel(r'$\\lambda_{\\rm obs} (\\AA)$',size=25)\n",
    "ax1.set_ylabel('flux',size=20)\n",
    "ax1.annotate(fo['SyntheticData'].header['LINE'],(0.6,0.18),xycoords='axes fraction',size=25)\n",
    "ax1.annotate(r'$z_{\\rm obs}$'+'={:4.2f}'.format(fo[3].header['OBS_Z']),(0.6,0.08),xycoords='axes fraction',size=25)\n",
    "ax2.set_title('Pristine input spectrum',size=25)\n",
    "ax2.set_xlabel(r'$\\lambda_{\\rm obs} (\\AA)$',size=25)\n",
    "ax2.set_ylabel('flux',size=20)\n",
    "ax2.annotate(fo['SyntheticData'].header['LINE'],(0.6,0.15),xycoords='axes fraction',size=25)\n",
    "ax2.annotate(r'$z_{\\rm obs}$'+'={:4.2f}'.format(fo[3].header['OBS_Z']),(0.6,0.08),xycoords='axes fraction',size=25)\n",
    "\n",
    "fig2.savefig(os.path.join(save_location,'asdi2.png'),dpi=300)"
   ]
  },
  {
   "cell_type": "code",
   "execution_count": null,
   "metadata": {},
   "outputs": [],
   "source": [
    "#define a helper function for looping over parameters\n",
    "def run_stis_datasim(line_name,ext_num,path,snratioresel=25,override=False,save_location='.'):\n",
    "\n",
    "    sn_string='-sn{:d}'.format(snratioresel)\n",
    "    \n",
    "    STIS_sim_filename = os.path.basename(example_path).replace('pristine', 'stis'+sn_string)\n",
    "    \n",
    "    stis_file_path=os.path.join(save_location,STIS_sim_filename)\n",
    "    \n",
    "    inst_sim_url = \"https://masttest.stsci.edu/asdi/api/v0.1/addsignature\"\n",
    "    PARAMS = {'instrument':'STIS', \n",
    "              'line_name': line_name, \n",
    "              'ext_num': ext_num, \n",
    "              'public_path': path,\n",
    "              'snratioresel': snratioresel,\n",
    "              'override_observed_wavelength': override}\n",
    "    \n",
    "    #skip if this file already exists locally\n",
    "    if os.path.lexists(stis_file_path):\n",
    "        print('simulated file exists, skipping service call.')\n",
    "        return stis_file_path\n",
    "    \n",
    "    r = requests.get(url = inst_sim_url, params = PARAMS, allow_redirects = True) \n",
    "\n",
    "    if r.status_code != 200: #show what went wrong\n",
    "        #print(r.headers)\n",
    "        print(r.text)\n",
    "    else:\n",
    "        open(stis_file_path, 'wb').write(r.content)\n",
    "\n",
    "    return stis_file_path"
   ]
  },
  {
   "cell_type": "code",
   "execution_count": null,
   "metadata": {},
   "outputs": [],
   "source": [
    "# Simulate STIS data with several Signal-to-Noise ratios\n",
    "sn_list=[10,20,100]\n",
    "\n",
    "fig3,ax1 = pyplot.subplots(1,1, figsize=(10, 6),dpi=72)\n",
    "pyplot.subplots_adjust(hspace=0.2,wspace=0.2,top=0.92,bottom=0.12,left=0.10,right=0.99)\n",
    "\n",
    "#recall that the \"example_\" parameters were for our selected LOS above.\n",
    "for sn in sn_list:\n",
    "    filepath=run_stis_datasim(example_line_name,example_ext_num,example_path,\n",
    "                              snratioresel=sn,\n",
    "                              override=1500.0,\n",
    "                              save_location=save_location)\n",
    "    print(filepath)\n",
    "    #open each file successively and overplot\n",
    "    this_fo=fits.open(filepath)\n",
    "    this_simdata=this_fo['SyntheticData'].data\n",
    "    flux=this_simdata['flux_stis']\n",
    "    ax1.plot(this_simdata['lam_stis'],flux,alpha=(sn/100.0)**0.33)\n",
    "\n",
    "ax1.set_title('STIS E140H spectra, S/N=10,20,100',size=22)\n",
    "ax1.set_xlabel(r'Observed Wavelength $(\\AA)$',size=22)\n",
    "ax1.set_ylabel('flux',size=20)\n",
    "ax1.annotate(fo['SyntheticData'].header['LINE'],(0.6,0.18),xycoords='axes fraction',size=22)\n",
    "ax1.annotate(r'$z_{\\rm obs}$'+'={:4.2f}'.format(this_fo[3].header['OBS_Z']),(0.6,0.08),xycoords='axes fraction',size=22)\n",
    "\n",
    "fig3.savefig(os.path.join(save_location,'asdi3.png'),dpi=300)"
   ]
  },
  {
   "cell_type": "markdown",
   "metadata": {},
   "source": [
    "### Contributors\n",
    "* Theresa Dower\n",
    "* Gregory Snyder\n",
    "* Molly Peeples"
   ]
  }
 ],
 "metadata": {
  "kernelspec": {
   "display_name": "Python 3",
   "language": "python",
   "name": "python3"
  },
  "language_info": {
   "codemirror_mode": {
    "name": "ipython",
    "version": 3
   },
   "file_extension": ".py",
   "mimetype": "text/x-python",
   "name": "python",
   "nbconvert_exporter": "python",
   "pygments_lexer": "ipython3",
   "version": "3.7.3"
  }
 },
 "nbformat": 4,
 "nbformat_minor": 2
}
